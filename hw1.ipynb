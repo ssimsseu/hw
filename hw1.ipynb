{
  "nbformat": 4,
  "nbformat_minor": 0,
  "metadata": {
    "colab": {
      "name": "Untitled0.ipynb",
      "provenance": [],
      "authorship_tag": "ABX9TyNaivztOe2o+AQCO/N9Gdja",
      "include_colab_link": true
    },
    "kernelspec": {
      "name": "python3",
      "display_name": "Python 3"
    }
  },
  "cells": [
    {
      "cell_type": "markdown",
      "metadata": {
        "id": "view-in-github",
        "colab_type": "text"
      },
      "source": [
        "<a href=\"https://colab.research.google.com/github/ssimsseu/hw/blob/master/hw1.ipynb\" target=\"_parent\"><img src=\"https://colab.research.google.com/assets/colab-badge.svg\" alt=\"Open In Colab\"/></a>"
      ]
    },
    {
      "cell_type": "code",
      "metadata": {
        "id": "jnizYmZ3z84u",
        "colab_type": "code",
        "colab": {}
      },
      "source": [
        ""
      ],
      "execution_count": 0,
      "outputs": []
    },
    {
      "cell_type": "markdown",
      "metadata": {
        "id": "7P0phXPXz_xl",
        "colab_type": "text"
      },
      "source": [
        "ai가 적용된 제품 및 서비스\n",
        " \n",
        "1. 언어: 구글 번역기\n",
        "[구글 번역기 링크](https://translate.google.com/)\n",
        " \n",
        "2. 음성: sk사 블루투스 스피커 NUGU\n",
        "사용자의 음성을 인식하여 정보검색, 컨텐츠 플레이 등을 수행한다.\n",
        "[NUGU제품 설명](\n",
        "https://m.blog.naver.com/moimoi1357/221917513236)\n",
        " \n",
        " \n",
        "3. 이미지: 온라인 쇼핑몰 등에서 사용자가 클릭한 제품과 비슷한, 혹은 같은 제품 다른 가격을 추천해주는 기능\n",
        "[AiTEMS](http://it.chosun.com/m/svc/article.html?contid=2018091203083&Dep0=m.search.naver.com&utm_source=m.search.naver.com&utm_medium=unknown&utm_campaign=itchosun)\n",
        " \n",
        "4. 자율주행: 차선 유지기능, 고속도로에서의 일정속도 유지기능, 앞 충돌방지를 피하는 제동기능에서부터 사람의 조작이 아예 필요없는 수준까지을 지향하며 ai가 적용되고 있다.\n",
        "[자율주행 단계](https://blog.hyundai-mnsoft.com/1133)"
      ]
    }
  ]
}