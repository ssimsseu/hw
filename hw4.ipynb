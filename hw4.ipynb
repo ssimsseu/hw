{
  "nbformat": 4,
  "nbformat_minor": 0,
  "metadata": {
    "colab": {
      "name": "4주차 과제.ipynb의 사본의 사본",
      "provenance": [],
      "collapsed_sections": [],
      "include_colab_link": true
    },
    "kernelspec": {
      "name": "python3",
      "display_name": "Python 3"
    }
  },
  "cells": [
    {
      "cell_type": "markdown",
      "metadata": {
        "id": "view-in-github",
        "colab_type": "text"
      },
      "source": [
        "<a href=\"https://colab.research.google.com/github/ssimsseu/hw/blob/master/hw4.ipynb\" target=\"_parent\"><img src=\"https://colab.research.google.com/assets/colab-badge.svg\" alt=\"Open In Colab\"/></a>"
      ]
    },
    {
      "cell_type": "markdown",
      "metadata": {
        "id": "wxkL6PjwsI6L",
        "colab_type": "text"
      },
      "source": [
        "# 4주차 과제\n",
        "- 용어 정리\n",
        "- 딥러닝 강의 클론 코딩\n",
        "- 딥러닝 순전파 & 역전파 계산"
      ]
    },
    {
      "cell_type": "markdown",
      "metadata": {
        "id": "ixEtDe6_uGgI",
        "colab_type": "text"
      },
      "source": [
        "## 1. 용어 정리\n",
        "\n",
        "다음 제시된 단어의 정의(설명)를 정리하여 작성 하세요.\n",
        "\n",
        "* 2문장 이상 작성 해 주세요. \n",
        "* 주제(단어)와 크게 벗어나지만 않는다면 정답처리 됩니다.\n",
        "* 강의 뿐 아니라 기타 레퍼런스를 참고하여 작성하셔도 됩니다. (기타 레퍼런스를 참고하신 경우, 해당 레퍼런스를 정리하여 하단에 작성해 주세요.)\n"
      ]
    },
    {
      "cell_type": "markdown",
      "metadata": {
        "id": "0lfwat8eurKZ",
        "colab_type": "text"
      },
      "source": [
        "__(예시)__\n",
        "### 심층 신경망\n",
        ": 입력층과 출력층 사이에 여러 개의 은닉층들로 이뤄진 인공신경망이다. 심층 신경망은 일반적으로 인공신경망과 마찬가지로 복잡한 비선형 관계들을 모델링 할 수 있다. 신층신경망의 목적은 분류 및 수치예측을 하기 위함이고 이미지 트레이닝이나 문자인식과 같은 분야에서 매우 유용하게 쓰이고 있다."
      ]
    },
    {
      "cell_type": "markdown",
      "metadata": {
        "id": "Y8YJNKG_v65A",
        "colab_type": "text"
      },
      "source": [
        "### MCP 뉴런\n",
        ":1943년 워랜 맥컬록과 월터피츠가 발표한 간호화된 뇌의 뉴런개념. 뇌의 뉴런은 신경세포로 연결돼 있는데 화학적,전기적 신호를 처리하고 전달하는 데 관여한다. MCP뉴런은 이러한 신경세포를 이진출력을 내는 입력-가중치-연결-출력구조의 간단한 논리회로로 표현하였다.\n",
        " \n",
        "### 퍼셉트론\n",
        ":1957년 프랭크 로젠블렛이 MCP뉴런모델을 기반으로 만든 '학습'개념. 자동으로 뉴런모델에서 최적의 가중치를 구하는 (학습하는) 알고리즘을 말한다.\n",
        " \n",
        "### 역전파\n",
        ":초반의 퍼셉트론 알고리즘에서 XOR를 구현할 수 없는 것을 시초로 단층->다층 퍼셉트론까지 발전하였으나 근본적인 해결방안으로 인정받지 못하다가 역전파 개념이 만들어졌다. 뉴런의 가중치를 효율적으로 조정하기 위하여 오차값을(기대값-출력값)기준으로 가중치를 해당 입력값의 비율에 비례해 출력의 역방향으로 조정해 나간다.\n",
        " \n",
        "### 강화학습\n",
        ":지도/비지도 학습과 다르게 정답도, 데이터학습도 없는 문제를 해결하는 학습방법. 에이전트(조종될 객체)가 환경과 상호작용하며 보상을 최대화하는 방향으로 시행착오를 거치며 학습하여 의사를 결정하는 전략이다. MDP 모델은 행동,상태,보상함수,상태변환확률,감가율,관측을 바탕으로 한다. 특정상태에서 특정행동을 할때의 보상기대값을 정의한다. 어떤 에피소드를 통해 얻은 정보로 기록 업데이트를 하는데 이 과정을 반복하는 것을 학습이라 한다.\n",
        " \n",
        "### 과적합\n",
        ":overfitting이라고도 한다. 학습에 사용된 자료가 전체 집단에 대한 대표성을 갖지 못할때 또는 복잡하고 정교하게 모델링된 다항식 변수를 구할때(학습할때) 부족한 학습자료에 과도하게 편향된 나머지 학습내용이 일반화 되지않는 (오차가 더 커지는) 상황을 말한다.\n",
        " \n",
        "### 차원의 저주\n",
        ":고정된 크기의 학습데이터(=훈련데이터)셋의 차원이 늘어남에 따라 올바른 분석을 위한 필요 데이터의 공간(=특성공간?)의 비중이 줄어드는 현상. 이 특성공간을 채운다는 건 데이터 수집,데이타 건수를 늘린다는 것인데 혹 늘리지 않고 적은 데이타만으로 공간을 표현하면 과적합이 발생할 수 있다.\n",
        "과적합, 차원의저주 관련 추가참조 링크[https://kkokkilkon.tistory.com/127]"
      ]
    },
    {
      "cell_type": "markdown",
      "metadata": {
        "id": "d-zfFXLCy6jD",
        "colab_type": "text"
      },
      "source": [
        "## 2. 딥러닝 강의 클론 코딩\n",
        "\n",
        "####__퍼셉트론 구조 구현하기__ \n",
        "딥러닝 강의(__딥러닝 원리[1] 3:15 ~ 5:15 부분__)를 보고 코드를 따라 치며 출력 결과를 만드세요.\n",
        " \n",
        "\n",
        "* 하나의 코드셀에 해당 코드를 한번에 다 적어서 실행해주세요 (__그렇게 하지 않을 경우, 아래 이미지와 같은 출력값이 나오지 않을 수 있습니다__)\n",
        "\n",
        "*__주의!__ 실제로 코딩해서 출력해보면 강의에 나온 출력 결과와 다르게 나옵니다!!\n"
      ]
    },
    {
      "cell_type": "markdown",
      "metadata": {
        "id": "wcc5mzI9oZ7r",
        "colab_type": "text"
      },
      "source": [
        "![대체 텍스트](https://www.notion.so/image/https%3A%2F%2Fs3-us-west-2.amazonaws.com%2Fsecure.notion-static.com%2F0cceeed0-0235-4b0f-af88-0b8c377d5b4b%2F_2020-06-09__9.35.23.png?table=block&id=88fd8912-9356-49a4-9fda-a1a63fe96ea9&width=2870&cache=v2)"
      ]
    },
    {
      "cell_type": "markdown",
      "metadata": {
        "id": "kr0HVRk8fOom",
        "colab_type": "text"
      },
      "source": [
        "## 3. 딥러닝 순전파 & 역전파 계산\n",
        "\n",
        "딥러닝 강의(__딥러닝 원리[2] 0:55 ~ 4:32 부분__)에 나오는 순전파 & 역전파 계산에 대한 문제 입니다.\n",
        "\n",
        "해당 영상과 다음 이미지를 참고하여 다음 2가지 물음에 답하세요.\n",
        "\n",
        "\n",
        "(1) 학습률이 0.2 일 경우 출력층의 노드값\n",
        "\n",
        "(2) 학습률이 0.1과 0.2 중 기대출력값이 지도데이터 \"3\"과 더 가까운 학습률은?"
      ]
    },
    {
      "cell_type": "markdown",
      "metadata": {
        "id": "CpwPFWhOUzww",
        "colab_type": "text"
      },
      "source": [
        "![대체 텍스트](https://www.notion.so/image/https%3A%2F%2Fs3-us-west-2.amazonaws.com%2Fsecure.notion-static.com%2Ff54dfd45-92ec-44ae-9616-6949d2484a45%2F_2020-06-10__5.22.03.png?table=block&id=ee05da89-3ceb-4ad9-a2d3-c9f68d24d1d9&width=3580&cache=v2)"
      ]
    },
    {
      "cell_type": "markdown",
      "metadata": {
        "id": "B2OVY7w5U3CI",
        "colab_type": "text"
      },
      "source": [
        "## (1) 학습률이 0.2 일 경우 출력층의 노드값 : 1.6\n",
        "## (2) 학습률이 0.1과 0.2 중 기대출력값이 지도데이터 \"3\"과 더 가까운 학습률은? : 0.1"
      ]
    },
    {
      "cell_type": "code",
      "metadata": {
        "id": "BgavfvqiWxBU",
        "colab_type": "code",
        "colab": {
          "base_uri": "https://localhost:8080/",
          "height": 151
        },
        "outputId": "793d1d74-ed99-47ab-b9ba-b97c34e708c3"
      },
      "source": [
        " \n",
        "import tensorflow as tf\n",
        "tf.compat.v1.set_random_seed(2020)\n",
        "x=1\n",
        "y=0\n",
        "w= tf.random.normal([1],0,1)\n",
        " \n",
        "import math as math\n",
        " def sigmoid(x):\n",
        " return 1/(1+math.exp(-x))\n",
        " \n",
        "output= sigmoid(x*w)\n",
        "print(output)\n",
        " \n",
        "for i in range(1000):\n",
        " output= sigmoid(x*w)\n",
        " error= y- output\n",
        " w= w+ x*0.1*error\n",
        " \n",
        " if i % 100 ==99:\n",
        "  print(\"학습 횟수:\", i, \"Error:\", error, \"예측결과:\", output)"
      ],
      "execution_count": null,
      "outputs": [
        {
          "output_type": "error",
          "ename": "IndentationError",
          "evalue": "ignored",
          "traceback": [
            "\u001b[0;36m  File \u001b[0;32m\"<ipython-input-1-6758a6f3f2c4>\"\u001b[0;36m, line \u001b[0;32m10\u001b[0m\n\u001b[0;31m    return 1/(1+math.exp(-x))\u001b[0m\n\u001b[0m         ^\u001b[0m\n\u001b[0;31mIndentationError\u001b[0m\u001b[0;31m:\u001b[0m expected an indented block\n"
          ]
        }
      ]
    }
  ]
}